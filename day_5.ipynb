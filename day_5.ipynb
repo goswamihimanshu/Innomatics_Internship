{
 "cells": [
  {
   "cell_type": "markdown",
   "metadata": {},
   "source": [
    "# Internship at Innomatics Research Labs"
   ]
  },
  {
   "cell_type": "markdown",
   "metadata": {},
   "source": [
    "# Himanshu Goswami                                                                         Day - 5"
   ]
  },
  {
   "cell_type": "markdown",
   "metadata": {},
   "source": [
    "Re.split()"
   ]
  },
  {
   "cell_type": "markdown",
   "metadata": {},
   "source": [
    "* You are given a string s consisting only of digits 0-9, commas ,, and dots .<br>\n",
    "\n",
    "* Your task is to complete the regex_pattern defined below, which will be used to re.split() all of the , and . symbols in s.\n",
    "<br>\n",
    "* It’s guaranteed that every comma and every dot in s is preceeded and followed by a digit.<br>"
   ]
  },
  {
   "cell_type": "code",
   "execution_count": null,
   "metadata": {},
   "outputs": [],
   "source": [
    "regex_pattern = r\"[.,]+\"\n",
    "\n",
    "import re\n",
    "print(\"\\n\".join(re.split(regex_pattern, input())))"
   ]
  },
  {
   "cell_type": "markdown",
   "metadata": {},
   "source": [
    "Group(), Groups() & Groupdict()<br>\n",
    "\n",
    "* Task<br>\n",
    "\n",
    "* You are given a string S.<br>\n",
    "* Your task is to find the first occurrence of an alphanumeric character in S (read from left to right) that has consecutive repetitions.<br>"
   ]
  },
  {
   "cell_type": "code",
   "execution_count": 3,
   "metadata": {},
   "outputs": [
    {
     "name": "stdout",
     "output_type": "stream",
     "text": [
      "..12345678910111213141516171820212223\n",
      "1\n"
     ]
    }
   ],
   "source": [
    "string = input()\n",
    "pattern = r'([a-z A-Z 0-9])\\1'\n",
    "\n",
    "m=re.search(pattern,string)\n",
    "if m:\n",
    "    print(m.groups()[0])\n",
    "else:\n",
    "    print(-1)\n"
   ]
  },
  {
   "cell_type": "markdown",
   "metadata": {},
   "source": [
    "start() & end()<br>\n",
    "\n",
    "* Task<br>\n",
    "* You are given a string S.<br>\n",
    "* Your task is to find the indices of the start and end of string K in S.<br>"
   ]
  },
  {
   "cell_type": "code",
   "execution_count": 4,
   "metadata": {},
   "outputs": [
    {
     "name": "stdout",
     "output_type": "stream",
     "text": [
      "aaadaa\n",
      "aa\n",
      "(0, 1)\n",
      "(1, 2)\n",
      "(4, 5)\n"
     ]
    }
   ],
   "source": [
    "import re\n",
    "text, pattern = input(), input()\n",
    "m= list(re.finditer(\"(?=(%s))\"%pattern,text))\n",
    "if not m:\n",
    "    print((-1,-1))\n",
    "for i in m:\n",
    "    print((i.start(1),i.end(1)-1))"
   ]
  },
  {
   "cell_type": "markdown",
   "metadata": {},
   "source": [
    "# ABCXYZ company has up to  employees.<br>\n",
    "The company decides to create a unique identification number (UID) for each of its employees.<br>\n",
    "The company has assigned you the task of validating all the randomly generated UIDs.<br>\n",
    "\n",
    "A valid UID must follow the rules below:<br><br>\n",
    "\n",
    "* It must contain at least  uppercase English alphabet characters.<br>\n",
    "* It must contain at least  digits ( - ).<br>\n",
    "* It should only contain alphanumeric characters ( - ,  -  &  - ).<br>\n",
    "* No character should repeat.<br>\n",
    "* There must be exactly  characters in a valid UID.<br>"
   ]
  },
  {
   "cell_type": "code",
   "execution_count": 3,
   "metadata": {},
   "outputs": [
    {
     "name": "stdout",
     "output_type": "stream",
     "text": [
      "2\n",
      "B1CD102354\n",
      "Invalid\n",
      "B1CDEF2354\n",
      "Valid\n"
     ]
    }
   ],
   "source": [
    "import re\n",
    "\n",
    "for i in range(int(input())):\n",
    "    N = input().strip()\n",
    "    if N.isalnum() and len(N) == 10:\n",
    "        if bool(re.search(r'(.*[A-Z]){2,}',N)) and bool(re.search(r'(.*[0-9]){3,}',N)):\n",
    "            if re.search(r'.*(.).*\\1+.*',N):\n",
    "                print('Invalid')\n",
    "            else:\n",
    "                print('Valid')\n",
    "        else:\n",
    "            print('Invalid')\n",
    "    else:\n",
    "        print('Invalid')"
   ]
  },
  {
   "cell_type": "code",
   "execution_count": null,
   "metadata": {},
   "outputs": [
    {
     "name": "stdout",
     "output_type": "stream",
     "text": [
      "11\n",
      "#BED {     color: #FfFdF8; background-color:#aef;     font-size: 123px;     background: -webkit-linear-gradient(top, #f9f9f9, #fff); } #Cab {     background-color: #ABC;     border: 2px dashed #fff; }\n",
      "#FfFdF8\n",
      "#aef\n",
      "#f9f9f9\n",
      "#fff\n",
      "#Cab\n",
      "#ABC\n",
      "#fff\n"
     ]
    }
   ],
   "source": [
    "import re\n",
    "\n",
    "for _ in range(int(input())):\n",
    "    matches = re.findall(r':?.(#[0-9a-fA-F]{6}|#[0-9a-fA-F]{3})', input())\n",
    "    if matches:\n",
    "        print(*matches, sep='\\n')"
   ]
  },
  {
   "cell_type": "code",
   "execution_count": 1,
   "metadata": {},
   "outputs": [
    {
     "name": "stdout",
     "output_type": "stream",
     "text": [
      "CDXXI\n",
      "True\n"
     ]
    }
   ],
   "source": [
    "thousand = 'M{0,3}'\n",
    "hundred = '(C[MD]|D?C{0,3})'\n",
    "ten = '(X[CL]|L?X{0,3})'\n",
    "digit = '(I[VX]|V?I{0,3})'\n",
    "regex_pattern = r\"%s%s%s%s$\" % (thousand, hundred, ten, digit)\n",
    "\n",
    "import re\n",
    "print(str(bool(re.match(regex_pattern, input()))))"
   ]
  },
  {
   "cell_type": "code",
   "execution_count": 1,
   "metadata": {},
   "outputs": [
    {
     "name": "stdout",
     "output_type": "stream",
     "text": [
      "2\n",
      "945464454654\n",
      "NO\n",
      "7785927111\n",
      "YES\n"
     ]
    }
   ],
   "source": [
    "import re\n",
    "\n",
    "N = int(input())\n",
    "\n",
    "for i in range(N):\n",
    "    number = input()\n",
    "    if(len(number)==10 and number.isdigit()):\n",
    "        output = re.findall(r\"^[789]\\d{9}$\",number)\n",
    "        if(len(output)==1):\n",
    "            print(\"YES\")\n",
    "        else:\n",
    "            print(\"NO\")\n",
    "    else:\n",
    "        print(\"NO\")"
   ]
  },
  {
   "cell_type": "code",
   "execution_count": 2,
   "metadata": {},
   "outputs": [
    {
     "name": "stdout",
     "output_type": "stream",
     "text": [
      "2\n",
      "DEXTER <dexter@hotmail.com> \n",
      "DEXTER <dexter@hotmail.com>\n",
      "VIRUS <virus!@variable.:p>\n"
     ]
    }
   ],
   "source": [
    "import re\n",
    "\n",
    "N = int(input())\n",
    "\n",
    "for i in range(N):\n",
    "    name, email = input().split()\n",
    "    pattern=\"<[a-z][a-zA-Z0-9\\-\\.\\_]+@[a-zA-Z]+\\.[a-zA-Z]{1,3}>\"\n",
    "    if bool(re.match(pattern, email)):\n",
    "        print(name,email)"
   ]
  },
  {
   "cell_type": "code",
   "execution_count": null,
   "metadata": {},
   "outputs": [],
   "source": [
    "  "
   ]
  }
 ],
 "metadata": {
  "kernelspec": {
   "display_name": "Python 3",
   "language": "python",
   "name": "python3"
  },
  "language_info": {
   "codemirror_mode": {
    "name": "ipython",
    "version": 3
   },
   "file_extension": ".py",
   "mimetype": "text/x-python",
   "name": "python",
   "nbconvert_exporter": "python",
   "pygments_lexer": "ipython3",
   "version": "3.7.1"
  }
 },
 "nbformat": 4,
 "nbformat_minor": 2
}
